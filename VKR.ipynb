{
 "cells": [
  {
   "cell_type": "code",
   "execution_count": null,
   "metadata": {},
   "outputs": [],
   "source": [
    "pip install openpyxl pandas numpy sklearn matplotlib seaborn"
   ]
  },
  {
   "cell_type": "code",
   "execution_count": null,
   "metadata": {},
   "outputs": [],
   "source": [
    "import pandas as pd\n",
    "import numpy as np\n",
    "import sklearn as sk\n",
    "import matplotlib.pyplot as plt\n",
    "import seaborn as sns\n",
    "from pandas.plotting import scatter_matrix\n",
    "from sklearn.neighbors import LocalOutlierFactor\n",
    "from sklearn import preprocessing"
   ]
  },
  {
   "cell_type": "code",
   "execution_count": null,
   "metadata": {},
   "outputs": [],
   "source": [
    "x_bp = pd.read_excel(io = \"./hw_data_composite/X_bp.xlsx\")\n",
    "x_bp = x_bp.astype({'Unnamed: 0':'int'})\n",
    "x_bp"
   ]
  },
  {
   "cell_type": "code",
   "execution_count": null,
   "metadata": {},
   "outputs": [],
   "source": [
    "x_nup = pd.read_excel(io = \"./hw_data_composite/X_nup.xlsx\")\n",
    "x_nup = x_nup.astype({'Unnamed: 0':'int','Угол нашивки, град':'int'})\n",
    "x_nup"
   ]
  },
  {
   "cell_type": "code",
   "execution_count": null,
   "metadata": {
    "scrolled": false
   },
   "outputs": [],
   "source": [
    "dataset = pd.merge(x_bp, x_nup, how='inner', on='Unnamed: 0')\n",
    "dataset = dataset.drop(labels = 'Unnamed: 0', axis = 1)\n",
    "dataset"
   ]
  },
  {
   "cell_type": "code",
   "execution_count": null,
   "metadata": {},
   "outputs": [],
   "source": [
    "dataset.median()"
   ]
  },
  {
   "cell_type": "code",
   "execution_count": null,
   "metadata": {},
   "outputs": [],
   "source": [
    "dataset.mean()"
   ]
  },
  {
   "cell_type": "code",
   "execution_count": null,
   "metadata": {},
   "outputs": [],
   "source": [
    "ds_without_angles = dataset.drop(axis = 1, labels = 'Угол нашивки, град')"
   ]
  },
  {
   "cell_type": "code",
   "execution_count": null,
   "metadata": {
    "scrolled": false
   },
   "outputs": [],
   "source": [
    "ds_without_angles.hist(figsize = (20, 20), bins = 20, color = 'green')"
   ]
  },
  {
   "cell_type": "code",
   "execution_count": null,
   "metadata": {
    "scrolled": true
   },
   "outputs": [],
   "source": [
    "for col in ds_without_angles.columns:\n",
    "    sns.boxplot(x = dataset[col], color = 'green')\n",
    "    plt.show()"
   ]
  },
  {
   "cell_type": "code",
   "execution_count": null,
   "metadata": {
    "scrolled": true
   },
   "outputs": [],
   "source": [
    "pair_diagram = scatter_matrix(ds_without_angles, figsize = (16, 16), alpha = 0.25, color = 'green', diagonal = None)\n",
    "for ax in pair_diagram.ravel():\n",
    "    ax.set_xlabel(ax.get_xlabel(), fontsize = 10, rotation = 45)\n",
    "    ax.set_ylabel(ax.get_ylabel(), fontsize = 10, rotation = 45)\n",
    "pair_diagram"
   ]
  },
  {
   "cell_type": "code",
   "execution_count": null,
   "metadata": {},
   "outputs": [],
   "source": [
    "dataset.isnull().sum()"
   ]
  },
  {
   "cell_type": "code",
   "execution_count": null,
   "metadata": {},
   "outputs": [],
   "source": [
    "lof = LocalOutlierFactor(n_neighbors = 300)\n",
    "y_pred = lof.fit_predict(ds_without_angles)\n",
    "outlier_indexes = []\n",
    "for i in range(len(y_pred)):\n",
    "    if y_pred[i] == -1:\n",
    "        outlier_indexes.append(i)\n",
    "print('Кол-во выбросов: ' + str(len(outlier_indexes)))"
   ]
  },
  {
   "cell_type": "code",
   "execution_count": null,
   "metadata": {},
   "outputs": [],
   "source": [
    "dataset.drop(outlier_indexes, inplace = True, errors='ignore')\n",
    "ds_without_angles.drop(outlier_indexes, inplace = True, errors='ignore')\n",
    "dataset"
   ]
  },
  {
   "cell_type": "code",
   "execution_count": null,
   "metadata": {},
   "outputs": [],
   "source": [
    "min_max_scaler = preprocessing.MinMaxScaler()\n",
    "dataset_normalized = pd.DataFrame(min_max_scaler.fit_transform(dataset.values))\n",
    "dataset_normalized.columns = dataset.columns\n",
    "dataset_normalized"
   ]
  },
  {
   "cell_type": "code",
   "execution_count": null,
   "metadata": {},
   "outputs": [],
   "source": [
    "standart_scaler = preprocessing.StandardScaler()\n",
    "dataset_standartized = pd.DataFrame(standart_scaler.fit_transform(dataset.values))\n",
    "dataset_standartized.columns = dataset.columns\n",
    "dataset_standartized"
   ]
  },
  {
   "cell_type": "code",
   "execution_count": null,
   "metadata": {},
   "outputs": [],
   "source": []
  },
  {
   "cell_type": "code",
   "execution_count": null,
   "metadata": {},
   "outputs": [],
   "source": []
  },
  {
   "cell_type": "code",
   "execution_count": null,
   "metadata": {},
   "outputs": [],
   "source": []
  },
  {
   "cell_type": "code",
   "execution_count": null,
   "metadata": {},
   "outputs": [],
   "source": []
  },
  {
   "cell_type": "code",
   "execution_count": null,
   "metadata": {},
   "outputs": [],
   "source": [
    "dataset_0 = []\n",
    "dataset_90 = []\n",
    "for i in range(len(dataset)):\n",
    "    if dataset['Угол нашивки, град'][i] == 0:\n",
    "        dataset_90.append(i)\n",
    "    else:\n",
    "        dataset_0.append(i)\n",
    "dataset_90 = dataset.drop(dataset_90, axis = 0)\n",
    "dataset_0 = dataset.drop(dataset_0, axis = 0)"
   ]
  },
  {
   "cell_type": "code",
   "execution_count": null,
   "metadata": {
    "scrolled": true
   },
   "outputs": [],
   "source": [
    "pair_diagram = scatter_matrix(dataset_0, figsize = (16, 16), alpha = 0.25, color = 'green', diagonal = None)\n",
    "for ax in pair_diagram.ravel():\n",
    "    ax.set_xlabel(ax.get_xlabel(), fontsize = 10, rotation = 45)\n",
    "    ax.set_ylabel(ax.get_ylabel(), fontsize = 10, rotation = 45)\n",
    "pair_diagram"
   ]
  },
  {
   "cell_type": "code",
   "execution_count": null,
   "metadata": {},
   "outputs": [],
   "source": [
    "pair_diagram = scatter_matrix(dataset_90, figsize = (16, 16), alpha = 0.25, color = 'green', diagonal = None)\n",
    "for ax in pair_diagram.ravel():\n",
    "    ax.set_xlabel(ax.get_xlabel(), fontsize = 10, rotation = 45)\n",
    "    ax.set_ylabel(ax.get_ylabel(), fontsize = 10, rotation = 45)\n",
    "pair_diagram"
   ]
  },
  {
   "cell_type": "code",
   "execution_count": null,
   "metadata": {},
   "outputs": [],
   "source": [
    "dataset_90.hist(figsize = (20, 20), bins = 20, color = 'green')"
   ]
  },
  {
   "cell_type": "code",
   "execution_count": null,
   "metadata": {},
   "outputs": [],
   "source": [
    "dataset_0.hist(figsize = (20, 20), bins = 20, color = 'green')"
   ]
  }
 ],
 "metadata": {
  "kernelspec": {
   "display_name": "Python 3",
   "language": "python",
   "name": "python3"
  },
  "language_info": {
   "codemirror_mode": {
    "name": "ipython",
    "version": 3
   },
   "file_extension": ".py",
   "mimetype": "text/x-python",
   "name": "python",
   "nbconvert_exporter": "python",
   "pygments_lexer": "ipython3",
   "version": "3.7.6"
  }
 },
 "nbformat": 4,
 "nbformat_minor": 4
}
